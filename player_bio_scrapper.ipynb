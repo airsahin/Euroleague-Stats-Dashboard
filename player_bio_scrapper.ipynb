{
 "cells": [
  {
   "cell_type": "markdown",
   "id": "2cc600e7",
   "metadata": {},
   "source": [
    "## Get Player Bio Data"
   ]
  },
  {
   "cell_type": "code",
   "execution_count": null,
   "id": "37495bd4",
   "metadata": {},
   "outputs": [
    {
     "name": "stdout",
     "output_type": "stream",
     "text": [
      "Retrieved 278 players for E2016\n",
      "Retrieved 277 players for E2017\n",
      "Retrieved 279 players for E2018\n",
      "Retrieved 326 players for E2019\n",
      "Retrieved 368 players for E2020\n",
      "Retrieved 328 players for E2021\n",
      "Retrieved 326 players for E2022\n",
      "Retrieved 320 players for E2023\n",
      "Retrieved 326 players for E2024\n",
      " data saved\n"
     ]
    }
   ],
   "source": [
    "# Import libraries\n",
    "import requests\n",
    "import json\n",
    "import time\n",
    "\n",
    "# Define seasons (Choose the last 9 seasons with the current league format)\n",
    "seasons = [f\"E{year}\" for year in range(2016, 2025)]\n",
    "\n",
    "# Base URL (found by inspecting network activity and JSON responses from the EuroLeague web API)\n",
    "base_url = \"https://feeds.incrowdsports.com/provider/euroleague-feeds/v2/competitions/E/seasons\"\n",
    "\n",
    "# Headers\n",
    "headers = {\n",
    "    \"Accept\": \"application/json\",\n",
    "    \"User-Agent\": \"Mozilla/5.0\"\n",
    "}\n",
    "\n",
    "# Store all data\n",
    "all_seasons_players = {}\n",
    "\n",
    "for season in seasons:\n",
    "    url = f\"{base_url}/{season}/people\"\n",
    "    params = {\n",
    "        \"personType\": \"J\",\n",
    "        \"Limit\": 500,\n",
    "        \"sortBy\": \"name\"\n",
    "    }\n",
    "\n",
    "    response = requests.get(url, headers=headers, params=params)\n",
    "\n",
    "    if response.status_code == 200:\n",
    "        data = response.json().get(\"data\", [])\n",
    "        season_players = []\n",
    "\n",
    "        for player in data:\n",
    "            person = player.get(\"person\", {})\n",
    "            season_players.append({\n",
    "                \"player\": person.get(\"name\"),\n",
    "                \"height\": person.get(\"height\", \"N/A\"),\n",
    "                \"weight\": person.get(\"weight\", \"N/A\"),\n",
    "                \"birth_date\": person.get(\"birthDate\", \"N/A\"),\n",
    "                \"position\": player.get(\"positionName\", \"N/A\"),\n",
    "                \"country\": person.get(\"country\", {}).get(\"name\", \"N/A\")\n",
    "            })\n",
    "\n",
    "        all_seasons_players[season] = season_players\n",
    "        print(f\"Retrieved {len(season_players)} players for {season}\")\n",
    "    else:\n",
    "        print(f\"Failed to retrieve data for season {season}. Status: {response.status_code}\")\n",
    "\n",
    "    time.sleep(1.2)  \n",
    "\n",
    "# Save to JSON\n",
    "with open(\"player_bio.json\", \"w\") as f:\n",
    "    json.dump(all_seasons_players, f, indent=4)\n",
    "\n",
    "print(' data saved')\n"
   ]
  }
 ],
 "metadata": {
  "kernelspec": {
   "display_name": "python38_env",
   "language": "python",
   "name": "python3"
  },
  "language_info": {
   "codemirror_mode": {
    "name": "ipython",
    "version": 3
   },
   "file_extension": ".py",
   "mimetype": "text/x-python",
   "name": "python",
   "nbconvert_exporter": "python",
   "pygments_lexer": "ipython3",
   "version": "3.8.20"
  }
 },
 "nbformat": 4,
 "nbformat_minor": 5
}
